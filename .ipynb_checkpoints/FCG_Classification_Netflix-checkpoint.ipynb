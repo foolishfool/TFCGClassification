{
 "cells": [
  {
   "cell_type": "code",
   "execution_count": 1,
   "id": "1f0fd19f",
   "metadata": {
    "scrolled": false
   },
   "outputs": [],
   "source": [
    "#THIS CODE ONLY DO THE WHOLE DATA TRAINING, NO CROSS_VALIDATION AND FEATURE SELECTION\n",
    "import pandas as pd\n",
    "#numpy-1.21.4\n",
    "import numpy as np\n",
    "import dataset_read\n",
    "import researchpy as rp\n",
    "import scipy.stats as stats\n",
    "import matplotlib.pyplot as plt\n",
    "import collections\n",
    "import warnings\n",
    "warnings.filterwarnings(\"ignore\", category=np.VisibleDeprecationWarning) \n",
    "dataread = dataset_read.DATAREAD()"
   ]
  },
  {
   "cell_type": "code",
   "execution_count": 2,
   "id": "25e9098d",
   "metadata": {
    "scrolled": true
   },
   "outputs": [
    {
     "name": "stdout",
     "output_type": "stream",
     "text": [
      "continuous_feature_num 3\n",
      "discrete_feature_num 4\n",
      "self.data_discrete_indexes ['Monthly Revenue', 'Country', 'Gender', 'Device'] \n"
     ]
    }
   ],
   "source": [
    "csv = pd.read_csv(\"Netflix Userbase.csv\")\n",
    "csv = csv.drop(columns=['User ID','Plan Duration'])\n",
    "\n",
    "\n",
    "dataread.label_encoding(csv,\"Subscription Type\")\n",
    "dataread.label_encoding(csv,\"Country\")\n",
    "dataread.label_encoding(csv,\"Gender\")\n",
    "dataread.label_encoding(csv,\"Device\")\n",
    "\n",
    "\n",
    "csv_test = csv.sample(int(csv.shape[0]*0.3))\n",
    "csv_training = csv.drop(csv_test.index,axis = 0)\n",
    "\n",
    "\n",
    "\n",
    "\n",
    "dataread.initializedataset(csv,csv_training,csv_test,\"Subscription Type\")\n",
    "\n",
    "#dataread.data_train_discrete"
   ]
  },
  {
   "cell_type": "code",
   "execution_count": 3,
   "id": "513a9bc3",
   "metadata": {
    "scrolled": false
   },
   "outputs": [
    {
     "name": "stdout",
     "output_type": "stream",
     "text": [
      "Experiment number: 1\n"
     ]
    },
    {
     "ename": "KeyError",
     "evalue": "0",
     "output_type": "error",
     "traceback": [
      "\u001b[1;31m---------------------------------------------------------------------------\u001b[0m",
      "\u001b[1;31mKeyError\u001b[0m                                  Traceback (most recent call last)",
      "Cell \u001b[1;32mIn[3], line 6\u001b[0m\n\u001b[0;32m      3\u001b[0m topology_ratio \u001b[38;5;241m=\u001b[39m \u001b[38;5;241m2\u001b[39m\n\u001b[0;32m      5\u001b[0m experiment \u001b[38;5;241m=\u001b[39m experiment\u001b[38;5;241m.\u001b[39mExperiment()\n\u001b[1;32m----> 6\u001b[0m \u001b[43mexperiment\u001b[49m\u001b[38;5;241;43m.\u001b[39;49m\u001b[43mTtest\u001b[49m\u001b[43m(\u001b[49m\u001b[43mdataread\u001b[49m\u001b[43m,\u001b[49m\u001b[43mscope_num\u001b[49m\u001b[43m,\u001b[49m\u001b[43mtopology_ratio\u001b[49m\u001b[43m)\u001b[49m\n",
      "File \u001b[1;32mC:\\JupyterDoc\\FCG\\VersionStore\\Version2FCGClassification\\experiment.py:138\u001b[0m, in \u001b[0;36mExperiment.Ttest\u001b[1;34m(self, dataread, scope_num, topology_ratio, nfolder)\u001b[0m\n\u001b[0;32m    136\u001b[0m \u001b[38;5;28;01mwhile\u001b[39;00m y \u001b[38;5;241m<\u001b[39m\u001b[38;5;241m=\u001b[39m scope_num:\n\u001b[0;32m    137\u001b[0m     \u001b[38;5;28mprint\u001b[39m(\u001b[38;5;124m\"\u001b[39m\u001b[38;5;124mExperiment number: \u001b[39m\u001b[38;5;132;01m{}\u001b[39;00m\u001b[38;5;124m\"\u001b[39m\u001b[38;5;241m.\u001b[39mformat(y))           \n\u001b[1;32m--> 138\u001b[0m     \u001b[38;5;28;43mself\u001b[39;49m\u001b[38;5;241;43m.\u001b[39;49m\u001b[43mInitializedExperimentDataList\u001b[49m\u001b[43m(\u001b[49m\u001b[43mnfolder\u001b[49m\u001b[43m,\u001b[49m\n\u001b[0;32m    139\u001b[0m \u001b[43m                            \u001b[49m\u001b[43mdataread\u001b[49m\u001b[43m,\u001b[49m\n\u001b[0;32m    140\u001b[0m \u001b[43m                            \u001b[49m\u001b[43mall_test_score_baseline_accuracy\u001b[49m\u001b[43m,\u001b[49m\n\u001b[0;32m    141\u001b[0m \u001b[43m                            \u001b[49m\u001b[43mall_test_score_baseline_recall\u001b[49m\u001b[43m,\u001b[49m\n\u001b[0;32m    142\u001b[0m \u001b[43m                            \u001b[49m\u001b[43mall_test_score_baseline_precision\u001b[49m\u001b[43m,\u001b[49m\n\u001b[0;32m    143\u001b[0m \u001b[43m                            \u001b[49m\u001b[43mall_test_score_baseline_f1\u001b[49m\u001b[43m,\u001b[49m\n\u001b[0;32m    144\u001b[0m \u001b[43m                            \u001b[49m\u001b[43mall_test_score_fcg_accuracy\u001b[49m\u001b[43m,\u001b[49m\n\u001b[0;32m    145\u001b[0m \u001b[43m                            \u001b[49m\u001b[43mall_test_score_fcg_recall\u001b[49m\u001b[43m,\u001b[49m\n\u001b[0;32m    146\u001b[0m \u001b[43m                            \u001b[49m\u001b[43mall_test_score_fcg_precision\u001b[49m\u001b[43m,\u001b[49m\u001b[43m   \u001b[49m\n\u001b[0;32m    147\u001b[0m \u001b[43m                            \u001b[49m\u001b[43mall_test_score_fcg_f1\u001b[49m\u001b[43m,\u001b[49m\n\u001b[0;32m    148\u001b[0m \u001b[43m                            \u001b[49m\u001b[43mtopology_ratio\u001b[49m\u001b[43m                      \u001b[49m\n\u001b[0;32m    149\u001b[0m \u001b[43m                            \u001b[49m\u001b[43m)\u001b[49m        \n\u001b[0;32m    150\u001b[0m     y \u001b[38;5;241m=\u001b[39my \u001b[38;5;241m+\u001b[39m \u001b[38;5;241m1\u001b[39m\n\u001b[0;32m    151\u001b[0m     \u001b[38;5;28;01mif\u001b[39;00m(y\u001b[38;5;241m<\u001b[39m\u001b[38;5;241m=\u001b[39m scope_num):\n",
      "File \u001b[1;32mC:\\JupyterDoc\\FCG\\VersionStore\\Version2FCGClassification\\experiment.py:104\u001b[0m, in \u001b[0;36mExperiment.InitializedExperimentDataList\u001b[1;34m(self, nfolder, dataread, test_score_baseline_accuracy, test_score_baseline_recall, test_score_baseline_precision, test_score_baseline_f1, test_score_fcg_accuracy, test_score_fcg_recall, test_score_fcg_precision, test_score_fcg_f1, topology_ratio)\u001b[0m\n\u001b[0;32m     91\u001b[0m \u001b[38;5;28;01melse\u001b[39;00m:  \n\u001b[0;32m     93\u001b[0m     Comparision \u001b[38;5;241m=\u001b[39m FCG\u001b[38;5;241m.\u001b[39mFCG(\n\u001b[0;32m     94\u001b[0m             dataread\u001b[38;5;241m.\u001b[39mdata_train,\n\u001b[0;32m     95\u001b[0m             dataread\u001b[38;5;241m.\u001b[39mdata_train_continuous,\n\u001b[1;32m   (...)\u001b[0m\n\u001b[0;32m    100\u001b[0m             dataread\u001b[38;5;241m.\u001b[39mlabel_train,\n\u001b[0;32m    101\u001b[0m             dataread\u001b[38;5;241m.\u001b[39mlabel_test,topology_ratio)                        \n\u001b[1;32m--> 104\u001b[0m     \u001b[43mComparision\u001b[49m\u001b[38;5;241;43m.\u001b[39;49m\u001b[43mdo_FCG\u001b[49m\u001b[43m(\u001b[49m\u001b[43mtopology_ratio\u001b[49m\u001b[43m)\u001b[49m\n\u001b[0;32m    109\u001b[0m     test_score_baseline_accuracy\u001b[38;5;241m.\u001b[39mappend(Comparision\u001b[38;5;241m.\u001b[39maccuracy_score_baseline)\n\u001b[0;32m    110\u001b[0m     test_score_baseline_recall\u001b[38;5;241m.\u001b[39mappend(Comparision\u001b[38;5;241m.\u001b[39mrecall_score_baseline)\n",
      "File \u001b[1;32mC:\\JupyterDoc\\FCG\\VersionStore\\Version2FCGClassification\\FCG.py:615\u001b[0m, in \u001b[0;36mFCG.do_FCG\u001b[1;34m(self, topology_distance_ratio, lr, sigma)\u001b[0m\n\u001b[0;32m    609\u001b[0m  \u001b[38;5;28mself\u001b[39m\u001b[38;5;241m.\u001b[39mtrain_new_embedding_fcg_fuzzy \u001b[38;5;241m=\u001b[39m \u001b[38;5;28mself\u001b[39m\u001b[38;5;241m.\u001b[39mgetEmbeddingWithClassProbablity_fuzzy(\u001b[38;5;28mself\u001b[39m\u001b[38;5;241m.\u001b[39mdata_train_discrete_unnormalized)  \n\u001b[0;32m    611\u001b[0m \u001b[38;5;66;03m# print(f\"self.train_new_embedding_fcg_fuzzy {self.train_new_embedding_fcg_fuzzy}\")\u001b[39;00m\n\u001b[0;32m    612\u001b[0m \n\u001b[0;32m    613\u001b[0m  \u001b[38;5;66;03m# get centeried of Fuzzy Memebership Distribution in each class\u001b[39;00m\n\u001b[0;32m    614\u001b[0m  \u001b[38;5;66;03m#self.getCentroidsByUpdate(  self.train_new_embedding_fcg_fuzzy,False )\u001b[39;00m\n\u001b[1;32m--> 615\u001b[0m  \u001b[38;5;28;43mself\u001b[39;49m\u001b[38;5;241;43m.\u001b[39;49m\u001b[43mgetCentroidsByUpdate\u001b[49m\u001b[43m(\u001b[49m\u001b[43m  \u001b[49m\u001b[38;5;28;43mself\u001b[39;49m\u001b[38;5;241;43m.\u001b[39;49m\u001b[43mtrain_new_embedding_fcg_fuzzy\u001b[49m\u001b[43m,\u001b[49m\u001b[38;5;28;43;01mTrue\u001b[39;49;00m\u001b[43m)\u001b[49m \u001b[38;5;66;03m#False\u001b[39;00m\n\u001b[0;32m    616\u001b[0m  \u001b[38;5;66;03m#self.getCnetroidByGruopMean(  self.train_new_embedding_fcg_fuzzy )\u001b[39;00m\n\u001b[0;32m    617\u001b[0m  \n\u001b[0;32m    618\u001b[0m \u001b[38;5;66;03m# print(f\"centeroid_dic {self.centeroid_dic}\")\u001b[39;00m\n\u001b[0;32m    619\u001b[0m  \u001b[38;5;66;03m# ______________finish training ________________\u001b[39;00m\n\u001b[0;32m    620\u001b[0m  \u001b[38;5;28mself\u001b[39m\u001b[38;5;241m.\u001b[39mtest_new_embedding_fcg_fuzzy \u001b[38;5;241m=\u001b[39m \u001b[38;5;28mself\u001b[39m\u001b[38;5;241m.\u001b[39mgetEmbeddingWithClassProbablity_fuzzy(\u001b[38;5;28mself\u001b[39m\u001b[38;5;241m.\u001b[39mdata_test_discrete_unnormalized)  \n",
      "File \u001b[1;32mC:\\JupyterDoc\\FCG\\VersionStore\\Version2FCGClassification\\FCG.py:575\u001b[0m, in \u001b[0;36mFCG.getCentroidsByUpdate\u001b[1;34m(self, X, manually_choose)\u001b[0m\n\u001b[0;32m    573\u001b[0m    \u001b[38;5;66;03m# print(f\"key {key}, choosen_index  { choosen_index}\")\u001b[39;00m\n\u001b[0;32m    574\u001b[0m     random_controid \u001b[38;5;241m=\u001b[39m \u001b[38;5;28mself\u001b[39m\u001b[38;5;241m.\u001b[39mtrain_new_embedding_fcg_fuzzy[random\u001b[38;5;241m.\u001b[39mchoice(\u001b[38;5;28mself\u001b[39m\u001b[38;5;241m.\u001b[39mclass_index_group_dic[key])]\n\u001b[1;32m--> 575\u001b[0m \u001b[38;5;28;01melse\u001b[39;00m: random_controid \u001b[38;5;241m=\u001b[39m \u001b[38;5;28mself\u001b[39m\u001b[38;5;241m.\u001b[39mtrain_new_embedding_fcg_fuzzy[\u001b[43mmanually_choose_dic\u001b[49m\u001b[43m[\u001b[49m\u001b[43mkey\u001b[49m\u001b[43m]\u001b[49m]\n\u001b[0;32m    576\u001b[0m \u001b[38;5;28mself\u001b[39m\u001b[38;5;241m.\u001b[39mget_membership_distribution_based_class(random_controid)\n\u001b[0;32m    577\u001b[0m \u001b[38;5;28mself\u001b[39m\u001b[38;5;241m.\u001b[39mcentroid_dic[key] \u001b[38;5;241m=\u001b[39m \u001b[38;5;28mself\u001b[39m\u001b[38;5;241m.\u001b[39mconverted_x_dic[key]\n",
      "\u001b[1;31mKeyError\u001b[0m: 0"
     ]
    }
   ],
   "source": [
    "import experiment\n",
    "scope_num = 30\n",
    "topology_ratio = 2\n",
    "\n",
    "experiment = experiment.Experiment()\n",
    "experiment.Ttest(dataread,scope_num,topology_ratio)"
   ]
  },
  {
   "cell_type": "code",
   "execution_count": null,
   "id": "e2a3b37e",
   "metadata": {},
   "outputs": [],
   "source": []
  },
  {
   "cell_type": "code",
   "execution_count": null,
   "id": "8942fe92",
   "metadata": {},
   "outputs": [],
   "source": []
  }
 ],
 "metadata": {
  "kernelspec": {
   "display_name": "Python (GPU)",
   "language": "python",
   "name": "gpu_env"
  },
  "language_info": {
   "codemirror_mode": {
    "name": "ipython",
    "version": 3
   },
   "file_extension": ".py",
   "mimetype": "text/x-python",
   "name": "python",
   "nbconvert_exporter": "python",
   "pygments_lexer": "ipython3",
   "version": "3.9.18"
  }
 },
 "nbformat": 4,
 "nbformat_minor": 5
}
