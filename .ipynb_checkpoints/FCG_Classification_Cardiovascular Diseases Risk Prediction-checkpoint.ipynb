{
 "cells": [
  {
   "cell_type": "code",
   "execution_count": 1,
   "id": "bfe73aa3",
   "metadata": {},
   "outputs": [],
   "source": [
    "#THIS CODE ONLY DO THE WHOLE DATA TRAINING, NO CROSS_VALIDATION AND FEATURE SELECTION\n",
    "import pandas as pd\n",
    "#numpy-1.21.4\n",
    "import numpy as np\n",
    "import dataset_read\n",
    "import researchpy as rp\n",
    "import scipy.stats as stats\n",
    "import matplotlib.pyplot as plt\n",
    "import collections\n",
    "import warnings\n",
    "warnings.filterwarnings(\"ignore\", category=np.VisibleDeprecationWarning) \n",
    "dataread = dataset_read.DATAREAD()"
   ]
  },
  {
   "cell_type": "code",
   "execution_count": 2,
   "id": "6087d459",
   "metadata": {
    "scrolled": true
   },
   "outputs": [
    {
     "name": "stdout",
     "output_type": "stream",
     "text": [
      "continuous_feature_num 7\n",
      "discrete_feature_num 11\n",
      "self.data_discrete_indexes ['Checkup', 'Exercise', 'Heart_Disease', 'Skin_Cancer', 'Other_Cancer', 'Depression', 'Diabetes', 'Arthritis', 'Sex', 'Age_Category', 'Smoking_History'] \n"
     ]
    }
   ],
   "source": [
    "csv = pd.read_csv(\"CVD_cleaned.csv\")\n",
    "csv = csv.sample(int(csv.shape[0]*0.1))\n",
    "\n",
    "\n",
    "dataread.label_encoding(csv,\"General_Health\")\n",
    "dataread.label_encoding(csv,\"Checkup\")\n",
    "dataread.label_encoding(csv,\"Exercise\")\n",
    "dataread.label_encoding(csv,\"Heart_Disease\")\n",
    "dataread.label_encoding(csv,\"Skin_Cancer\")\n",
    "dataread.label_encoding(csv,\"Other_Cancer\")\n",
    "dataread.label_encoding(csv,\"Depression\")\n",
    "dataread.label_encoding(csv,\"Diabetes\")\n",
    "dataread.label_encoding(csv,\"Arthritis\")\n",
    "dataread.label_encoding(csv,\"Sex\")\n",
    "dataread.label_encoding(csv,\"Age_Category\")\n",
    "dataread.label_encoding(csv,\"Smoking_History\")\n",
    "\n",
    "\n",
    "\n",
    "csv_test = csv.sample(int(csv.shape[0]*0.3))\n",
    "csv_training = csv.drop(csv_test.index,axis = 0)\n",
    "csv_training = csv\n",
    "dataread.initializedataset(csv,csv_training,csv_test,\"General_Health\")"
   ]
  },
  {
   "cell_type": "code",
   "execution_count": null,
   "id": "4749177c",
   "metadata": {
    "scrolled": true
   },
   "outputs": [
    {
     "name": "stdout",
     "output_type": "stream",
     "text": [
      "Experiment number: 1\n",
      "self.random_dic {1: 6437, 4: 14089, 2: 11105, 3: 323, 0: 20438}\n",
      "accuracy_score_baseline 0.5095520777118187\n",
      "recall_score_baseline 0.43741306268835933\n",
      "precision_score_baseline 0.5876974404118661\n",
      "f1_score_baseline 0.46748660640209927\n",
      "accuracy_score_fcg 0.19438747976254722\n",
      "recall_score_fcg 0.1740260842658628\n",
      "precision_score_fcg 0.16278746627187243\n",
      "f1_score_fcg 0.15078261113127972\n",
      "Not good accuracy result !!!!!\n",
      "Not good recall_score result !!!!!\n",
      "Not good precision_score_ !!!!!\n",
      "Not good accuracy result !!!!!\n",
      "Experiment number: 2\n",
      "self.random_dic {1: 24613, 4: 6028, 2: 16376, 3: 12861, 0: 27354}\n"
     ]
    }
   ],
   "source": [
    "import experiment\n",
    "scope_num = 50\n",
    "topology_ratio = 2\n",
    "\n",
    "experiment = experiment.Experiment()\n",
    "experiment.Ttest(dataread,scope_num,topology_ratio)"
   ]
  },
  {
   "cell_type": "code",
   "execution_count": null,
   "id": "7b0ea935",
   "metadata": {},
   "outputs": [],
   "source": [
    "dic= {0: 51, 3: 111, 4: 23, 1: 124, 2: 20}\n",
    "#print(experiment.train_new_embedding_fcg_fuzzy)\n",
    "experiment_M = experiment_M.Experiment()\n",
    "experiment_M.Ttest(dataread,scope_num,topology_ratio,0,dic,experiment.class_num,experiment.class_index_group_dic,experiment.all_features_mapping_fuzzy,experiment.train_new_embedding_fcg_fuzzy,experiment.test_new_embedding_fcg_fuzzy)"
   ]
  },
  {
   "cell_type": "markdown",
   "id": "7af26419",
   "metadata": {},
   "source": [
    "## "
   ]
  }
 ],
 "metadata": {
  "kernelspec": {
   "display_name": "Python (GPU)",
   "language": "python",
   "name": "gpu_env"
  },
  "language_info": {
   "codemirror_mode": {
    "name": "ipython",
    "version": 3
   },
   "file_extension": ".py",
   "mimetype": "text/x-python",
   "name": "python",
   "nbconvert_exporter": "python",
   "pygments_lexer": "ipython3",
   "version": "3.9.18"
  }
 },
 "nbformat": 4,
 "nbformat_minor": 5
}
